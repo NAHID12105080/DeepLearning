{
  "nbformat": 4,
  "nbformat_minor": 0,
  "metadata": {
    "colab": {
      "provenance": []
    },
    "kernelspec": {
      "name": "python3",
      "display_name": "Python 3"
    },
    "language_info": {
      "name": "python"
    }
  },
  "cells": [
    {
      "cell_type": "code",
      "execution_count": 13,
      "metadata": {
        "colab": {
          "base_uri": "https://localhost:8080/"
        },
        "id": "GRN2pxVucioH",
        "outputId": "37b3f122-4abb-4485-b51e-d892abc9fc23"
      },
      "outputs": [
        {
          "output_type": "stream",
          "name": "stdout",
          "text": [
            "Requirement already satisfied: nltk in /usr/local/lib/python3.10/dist-packages (3.8.1)\n",
            "Requirement already satisfied: click in /usr/local/lib/python3.10/dist-packages (from nltk) (8.1.7)\n",
            "Requirement already satisfied: joblib in /usr/local/lib/python3.10/dist-packages (from nltk) (1.4.2)\n",
            "Requirement already satisfied: regex>=2021.8.3 in /usr/local/lib/python3.10/dist-packages (from nltk) (2024.9.11)\n",
            "Requirement already satisfied: tqdm in /usr/local/lib/python3.10/dist-packages (from nltk) (4.66.5)\n"
          ]
        },
        {
          "output_type": "stream",
          "name": "stderr",
          "text": [
            "[nltk_data] Downloading package punkt to /root/nltk_data...\n",
            "[nltk_data]   Unzipping tokenizers/punkt.zip.\n"
          ]
        },
        {
          "output_type": "execute_result",
          "data": {
            "text/plain": [
              "True"
            ]
          },
          "metadata": {},
          "execution_count": 13
        }
      ],
      "source": [
        "!pip install nltk\n",
        "import nltk\n",
        "nltk.download('punkt')\n",
        "\n"
      ]
    },
    {
      "cell_type": "code",
      "source": [
        "corpus=\"\"\"Blockchain's Interaction:Both libraries enable developers to connect to Ethereum nodes,send transactions, interact with smart contracts, and retrieve blockchain data.\n",
        "Smart Contract Support: Both libraries support calling smart contract methods and handling events\"\"\""
      ],
      "metadata": {
        "id": "IEgus0n2c9Y1"
      },
      "execution_count": 30,
      "outputs": []
    },
    {
      "cell_type": "code",
      "source": [
        "print(corpus)"
      ],
      "metadata": {
        "colab": {
          "base_uri": "https://localhost:8080/"
        },
        "id": "DQBdGsd-dpqs",
        "outputId": "9fb1d859-9534-4323-b0ca-3970acc292fa"
      },
      "execution_count": 20,
      "outputs": [
        {
          "output_type": "stream",
          "name": "stdout",
          "text": [
            "Blockchain Interaction:Both libraries enable developers to connect to Ethereum nodes,send transactions, interact with smart contracts, and retrieve blockchain data.\n",
            "Smart Contract Support: Both libraries support calling smart contract methods and handling events\n"
          ]
        }
      ]
    },
    {
      "cell_type": "code",
      "source": [
        "from nltk.tokenize import sent_tokenize"
      ],
      "metadata": {
        "id": "NS_zlWeCduPg"
      },
      "execution_count": 21,
      "outputs": []
    },
    {
      "cell_type": "code",
      "source": [
        "print(sent_tokenize(corpus))\n"
      ],
      "metadata": {
        "colab": {
          "base_uri": "https://localhost:8080/"
        },
        "id": "tvroQMitd3Uc",
        "outputId": "0dc815cd-d601-4359-a1f0-6b682f0f0259"
      },
      "execution_count": 22,
      "outputs": [
        {
          "output_type": "stream",
          "name": "stdout",
          "text": [
            "['Blockchain Interaction:Both libraries enable developers to connect to Ethereum nodes,send transactions, interact with smart contracts, and retrieve blockchain data.', 'Smart Contract Support: Both libraries support calling smart contract methods and handling events']\n"
          ]
        }
      ]
    },
    {
      "cell_type": "code",
      "source": [
        "for sentence in sent_tokenize(corpus):\n",
        "  print(sentence)"
      ],
      "metadata": {
        "colab": {
          "base_uri": "https://localhost:8080/"
        },
        "id": "9emAgcbbeVmv",
        "outputId": "0c7243c1-0695-4afc-d00d-39491ac94e42"
      },
      "execution_count": 23,
      "outputs": [
        {
          "output_type": "stream",
          "name": "stdout",
          "text": [
            "Blockchain Interaction:Both libraries enable developers to connect to Ethereum nodes,send transactions, interact with smart contracts, and retrieve blockchain data.\n",
            "Smart Contract Support: Both libraries support calling smart contract methods and handling events\n"
          ]
        }
      ]
    },
    {
      "cell_type": "code",
      "source": [
        "from nltk.tokenize import word_tokenize"
      ],
      "metadata": {
        "id": "tuhjnYmnedie"
      },
      "execution_count": 24,
      "outputs": []
    },
    {
      "cell_type": "code",
      "source": [
        "words=word_tokenize(corpus)"
      ],
      "metadata": {
        "id": "vEwaFS2pfKRv"
      },
      "execution_count": 32,
      "outputs": []
    },
    {
      "cell_type": "code",
      "source": [
        "for word in words:\n",
        "  print(word)"
      ],
      "metadata": {
        "colab": {
          "base_uri": "https://localhost:8080/"
        },
        "id": "ryibETi1fRqJ",
        "outputId": "3313eaf7-a0bc-4089-83df-e7f5adafac8a"
      },
      "execution_count": 33,
      "outputs": [
        {
          "output_type": "stream",
          "name": "stdout",
          "text": [
            "Blockchain\n",
            "'s\n",
            "Interaction\n",
            ":\n",
            "Both\n",
            "libraries\n",
            "enable\n",
            "developers\n",
            "to\n",
            "connect\n",
            "to\n",
            "Ethereum\n",
            "nodes\n",
            ",\n",
            "send\n",
            "transactions\n",
            ",\n",
            "interact\n",
            "with\n",
            "smart\n",
            "contracts\n",
            ",\n",
            "and\n",
            "retrieve\n",
            "blockchain\n",
            "data\n",
            ".\n",
            "Smart\n",
            "Contract\n",
            "Support\n",
            ":\n",
            "Both\n",
            "libraries\n",
            "support\n",
            "calling\n",
            "smart\n",
            "contract\n",
            "methods\n",
            "and\n",
            "handling\n",
            "events\n"
          ]
        }
      ]
    },
    {
      "cell_type": "code",
      "source": [
        "from nltk.tokenize import wordpunct_tokenize"
      ],
      "metadata": {
        "id": "vfr8kvrRfUoj"
      },
      "execution_count": 27,
      "outputs": []
    },
    {
      "cell_type": "code",
      "source": [
        "words_punct=wordpunct_tokenize(corpus)"
      ],
      "metadata": {
        "id": "33nY6GZNfmSn"
      },
      "execution_count": 35,
      "outputs": []
    },
    {
      "cell_type": "code",
      "source": [
        "for word in words_punct:\n",
        "  print(word)"
      ],
      "metadata": {
        "colab": {
          "base_uri": "https://localhost:8080/"
        },
        "id": "vN7j90LLfq-x",
        "outputId": "390e56b1-09c0-4f3b-aef6-07a51bdf70bd"
      },
      "execution_count": 36,
      "outputs": [
        {
          "output_type": "stream",
          "name": "stdout",
          "text": [
            "Blockchain\n",
            "'\n",
            "s\n",
            "Interaction\n",
            ":\n",
            "Both\n",
            "libraries\n",
            "enable\n",
            "developers\n",
            "to\n",
            "connect\n",
            "to\n",
            "Ethereum\n",
            "nodes\n",
            ",\n",
            "send\n",
            "transactions\n",
            ",\n",
            "interact\n",
            "with\n",
            "smart\n",
            "contracts\n",
            ",\n",
            "and\n",
            "retrieve\n",
            "blockchain\n",
            "data\n",
            ".\n",
            "Smart\n",
            "Contract\n",
            "Support\n",
            ":\n",
            "Both\n",
            "libraries\n",
            "support\n",
            "calling\n",
            "smart\n",
            "contract\n",
            "methods\n",
            "and\n",
            "handling\n",
            "events\n"
          ]
        }
      ]
    },
    {
      "cell_type": "code",
      "source": [
        "from nltk.tokenize import TreebankWordTokenizer"
      ],
      "metadata": {
        "id": "4ANxL790fuV2"
      },
      "execution_count": 37,
      "outputs": []
    },
    {
      "cell_type": "code",
      "source": [
        "tokenizer_words=TreebankWordTokenizer()"
      ],
      "metadata": {
        "id": "k9mE_hLngK0g"
      },
      "execution_count": 41,
      "outputs": []
    },
    {
      "cell_type": "code",
      "source": [
        "tokenizer_words.tokenize(corpus)"
      ],
      "metadata": {
        "colab": {
          "base_uri": "https://localhost:8080/"
        },
        "id": "LjHzO1FZgOsD",
        "outputId": "27d9fb64-85e7-48a6-a79b-5a4137834357"
      },
      "execution_count": 42,
      "outputs": [
        {
          "output_type": "execute_result",
          "data": {
            "text/plain": [
              "['Blockchain',\n",
              " \"'s\",\n",
              " 'Interaction',\n",
              " ':',\n",
              " 'Both',\n",
              " 'libraries',\n",
              " 'enable',\n",
              " 'developers',\n",
              " 'to',\n",
              " 'connect',\n",
              " 'to',\n",
              " 'Ethereum',\n",
              " 'nodes',\n",
              " ',',\n",
              " 'send',\n",
              " 'transactions',\n",
              " ',',\n",
              " 'interact',\n",
              " 'with',\n",
              " 'smart',\n",
              " 'contracts',\n",
              " ',',\n",
              " 'and',\n",
              " 'retrieve',\n",
              " 'blockchain',\n",
              " 'data.',\n",
              " 'Smart',\n",
              " 'Contract',\n",
              " 'Support',\n",
              " ':',\n",
              " 'Both',\n",
              " 'libraries',\n",
              " 'support',\n",
              " 'calling',\n",
              " 'smart',\n",
              " 'contract',\n",
              " 'methods',\n",
              " 'and',\n",
              " 'handling',\n",
              " 'events']"
            ]
          },
          "metadata": {},
          "execution_count": 42
        }
      ]
    },
    {
      "cell_type": "code",
      "source": [],
      "metadata": {
        "id": "sHdd3ZtfgS_b"
      },
      "execution_count": null,
      "outputs": []
    }
  ]
}